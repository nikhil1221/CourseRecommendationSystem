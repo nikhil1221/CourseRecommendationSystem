{
 "cells": [
  {
   "cell_type": "code",
   "execution_count": 4,
   "metadata": {},
   "outputs": [
    {
     "data": {
      "text/html": [
       "<div>\n",
       "<style scoped>\n",
       "    .dataframe tbody tr th:only-of-type {\n",
       "        vertical-align: middle;\n",
       "    }\n",
       "\n",
       "    .dataframe tbody tr th {\n",
       "        vertical-align: top;\n",
       "    }\n",
       "\n",
       "    .dataframe thead th {\n",
       "        text-align: right;\n",
       "    }\n",
       "</style>\n",
       "<table border=\"1\" class=\"dataframe\">\n",
       "  <thead>\n",
       "    <tr style=\"text-align: right;\">\n",
       "      <th></th>\n",
       "      <th>studentIds</th>\n",
       "      <th>enrolled_courses</th>\n",
       "    </tr>\n",
       "  </thead>\n",
       "  <tbody>\n",
       "    <tr>\n",
       "      <th>0</th>\n",
       "      <td>6e6dabfe6d4eaa2d15b4672e0d0fad5a</td>\n",
       "      <td>[c64ca44849ae86093254a01b5748466f]</td>\n",
       "    </tr>\n",
       "    <tr>\n",
       "      <th>1</th>\n",
       "      <td>a4839004275f9f0583a20f03a8b759c3</td>\n",
       "      <td>[c64ca44849ae86093254a01b5748466f]</td>\n",
       "    </tr>\n",
       "    <tr>\n",
       "      <th>2</th>\n",
       "      <td>bd73581ef03a1f15f24a7d2c7b573792</td>\n",
       "      <td>[c64ca44849ae86093254a01b5748466f]</td>\n",
       "    </tr>\n",
       "    <tr>\n",
       "      <th>3</th>\n",
       "      <td>7a3595d03ba05f3778ade4e0881be40f</td>\n",
       "      <td>[c64ca44849ae86093254a01b5748466f]</td>\n",
       "    </tr>\n",
       "    <tr>\n",
       "      <th>4</th>\n",
       "      <td>ee2dce155a659d3b6594479d228e98b8</td>\n",
       "      <td>[e2e15f7b9ea0df0fbab2d5c6929a894e, c64ca44849a...</td>\n",
       "    </tr>\n",
       "  </tbody>\n",
       "</table>\n",
       "</div>"
      ],
      "text/plain": [
       "                         studentIds  \\\n",
       "0  6e6dabfe6d4eaa2d15b4672e0d0fad5a   \n",
       "1  a4839004275f9f0583a20f03a8b759c3   \n",
       "2  bd73581ef03a1f15f24a7d2c7b573792   \n",
       "3  7a3595d03ba05f3778ade4e0881be40f   \n",
       "4  ee2dce155a659d3b6594479d228e98b8   \n",
       "\n",
       "                                    enrolled_courses  \n",
       "0                 [c64ca44849ae86093254a01b5748466f]  \n",
       "1                 [c64ca44849ae86093254a01b5748466f]  \n",
       "2                 [c64ca44849ae86093254a01b5748466f]  \n",
       "3                 [c64ca44849ae86093254a01b5748466f]  \n",
       "4  [e2e15f7b9ea0df0fbab2d5c6929a894e, c64ca44849a...  "
      ]
     },
     "execution_count": 4,
     "metadata": {},
     "output_type": "execute_result"
    }
   ],
   "source": [
    "import json\n",
    "import pandas as pd\n",
    "f = open('course_enrollments.json',encoding='utf8') \n",
    "  \n",
    "# returns JSON object as  \n",
    "# a dictionary \n",
    "data = json.load(f) \n",
    "f.close()\n",
    "course_enrollments=pd.DataFrame(data)\n",
    "course_enrollments.head()"
   ]
  },
  {
   "cell_type": "code",
   "execution_count": 5,
   "metadata": {},
   "outputs": [
    {
     "data": {
      "text/html": [
       "<div>\n",
       "<style scoped>\n",
       "    .dataframe tbody tr th:only-of-type {\n",
       "        vertical-align: middle;\n",
       "    }\n",
       "\n",
       "    .dataframe tbody tr th {\n",
       "        vertical-align: top;\n",
       "    }\n",
       "\n",
       "    .dataframe thead th {\n",
       "        text-align: right;\n",
       "    }\n",
       "</style>\n",
       "<table border=\"1\" class=\"dataframe\">\n",
       "  <thead>\n",
       "    <tr style=\"text-align: right;\">\n",
       "      <th></th>\n",
       "      <th>studentIds</th>\n",
       "      <th>enrolled_courses</th>\n",
       "    </tr>\n",
       "  </thead>\n",
       "  <tbody>\n",
       "    <tr>\n",
       "      <th>0</th>\n",
       "      <td>6e6dabfe6d4eaa2d15b4672e0d0fad5a</td>\n",
       "      <td>c64ca44849ae86093254a01b5748466f</td>\n",
       "    </tr>\n",
       "    <tr>\n",
       "      <th>1</th>\n",
       "      <td>a4839004275f9f0583a20f03a8b759c3</td>\n",
       "      <td>c64ca44849ae86093254a01b5748466f</td>\n",
       "    </tr>\n",
       "    <tr>\n",
       "      <th>2</th>\n",
       "      <td>bd73581ef03a1f15f24a7d2c7b573792</td>\n",
       "      <td>c64ca44849ae86093254a01b5748466f</td>\n",
       "    </tr>\n",
       "    <tr>\n",
       "      <th>3</th>\n",
       "      <td>7a3595d03ba05f3778ade4e0881be40f</td>\n",
       "      <td>c64ca44849ae86093254a01b5748466f</td>\n",
       "    </tr>\n",
       "    <tr>\n",
       "      <th>4</th>\n",
       "      <td>ee2dce155a659d3b6594479d228e98b8</td>\n",
       "      <td>e2e15f7b9ea0df0fbab2d5c6929a894e</td>\n",
       "    </tr>\n",
       "  </tbody>\n",
       "</table>\n",
       "</div>"
      ],
      "text/plain": [
       "                         studentIds                  enrolled_courses\n",
       "0  6e6dabfe6d4eaa2d15b4672e0d0fad5a  c64ca44849ae86093254a01b5748466f\n",
       "1  a4839004275f9f0583a20f03a8b759c3  c64ca44849ae86093254a01b5748466f\n",
       "2  bd73581ef03a1f15f24a7d2c7b573792  c64ca44849ae86093254a01b5748466f\n",
       "3  7a3595d03ba05f3778ade4e0881be40f  c64ca44849ae86093254a01b5748466f\n",
       "4  ee2dce155a659d3b6594479d228e98b8  e2e15f7b9ea0df0fbab2d5c6929a894e"
      ]
     },
     "execution_count": 5,
     "metadata": {},
     "output_type": "execute_result"
    }
   ],
   "source": [
    "#course enrollment destructre\n",
    "\n",
    "course_enrollments=course_enrollments.enrolled_courses.apply(pd.Series).merge(course_enrollments,left_index=True,right_index=True).drop(['enrolled_courses'],axis=1).melt(id_vars=['studentIds'],value_name='enrolled_courses').drop('variable',axis=1).dropna()\n",
    "course_enrollments.head()"
   ]
  },
  {
   "cell_type": "code",
   "execution_count": 6,
   "metadata": {},
   "outputs": [
    {
     "data": {
      "text/html": [
       "<div>\n",
       "<style scoped>\n",
       "    .dataframe tbody tr th:only-of-type {\n",
       "        vertical-align: middle;\n",
       "    }\n",
       "\n",
       "    .dataframe tbody tr th {\n",
       "        vertical-align: top;\n",
       "    }\n",
       "\n",
       "    .dataframe thead th {\n",
       "        text-align: right;\n",
       "    }\n",
       "</style>\n",
       "<table border=\"1\" class=\"dataframe\">\n",
       "  <thead>\n",
       "    <tr style=\"text-align: right;\">\n",
       "      <th></th>\n",
       "      <th>class_id</th>\n",
       "      <th>target</th>\n",
       "      <th>target_super_group</th>\n",
       "    </tr>\n",
       "  </thead>\n",
       "  <tbody>\n",
       "    <tr>\n",
       "      <th>0</th>\n",
       "      <td>9a5896f9ff163fe54390aa23e9a05c46</td>\n",
       "      <td>[{'_id': 'b81a8991dd18c0b47f6bc16c47dfa0ae', '...</td>\n",
       "      <td>[{'_id': '4db3fc331f6c3cc1afcd4cb6938db9d0', '...</td>\n",
       "    </tr>\n",
       "    <tr>\n",
       "      <th>1</th>\n",
       "      <td>80714763e74d90914b3251a00a9a1b85</td>\n",
       "      <td>[{'_id': '21cde520a11aea91d3b0c222ee9f52a4', '...</td>\n",
       "      <td>[{'_id': '4db3fc331f6c3cc1afcd4cb6938db9d0', '...</td>\n",
       "    </tr>\n",
       "    <tr>\n",
       "      <th>2</th>\n",
       "      <td>b6abd291efa202c568f7e24dec8c26dc</td>\n",
       "      <td>[{'_id': '8dce41b95f3777d43d7ac6259bf1c39a', '...</td>\n",
       "      <td>[{'_id': '4db3fc331f6c3cc1afcd4cb6938db9d0', '...</td>\n",
       "    </tr>\n",
       "    <tr>\n",
       "      <th>3</th>\n",
       "      <td>ff9317caee0d6c22fc730a881f0fe1b2</td>\n",
       "      <td>[{'_id': 'ce93e65e281ffed2347769d363c25b70', '...</td>\n",
       "      <td>[{'_id': 'e992109a17e84f458f34c1b888c23205', '...</td>\n",
       "    </tr>\n",
       "    <tr>\n",
       "      <th>4</th>\n",
       "      <td>6eec3063cb4057d3e3e4596295162cb5</td>\n",
       "      <td>[{'_id': 'b81a8991dd18c0b47f6bc16c47dfa0ae', '...</td>\n",
       "      <td>None</td>\n",
       "    </tr>\n",
       "  </tbody>\n",
       "</table>\n",
       "</div>"
      ],
      "text/plain": [
       "                           class_id  \\\n",
       "0  9a5896f9ff163fe54390aa23e9a05c46   \n",
       "1  80714763e74d90914b3251a00a9a1b85   \n",
       "2  b6abd291efa202c568f7e24dec8c26dc   \n",
       "3  ff9317caee0d6c22fc730a881f0fe1b2   \n",
       "4  6eec3063cb4057d3e3e4596295162cb5   \n",
       "\n",
       "                                              target  \\\n",
       "0  [{'_id': 'b81a8991dd18c0b47f6bc16c47dfa0ae', '...   \n",
       "1  [{'_id': '21cde520a11aea91d3b0c222ee9f52a4', '...   \n",
       "2  [{'_id': '8dce41b95f3777d43d7ac6259bf1c39a', '...   \n",
       "3  [{'_id': 'ce93e65e281ffed2347769d363c25b70', '...   \n",
       "4  [{'_id': 'b81a8991dd18c0b47f6bc16c47dfa0ae', '...   \n",
       "\n",
       "                                  target_super_group  \n",
       "0  [{'_id': '4db3fc331f6c3cc1afcd4cb6938db9d0', '...  \n",
       "1  [{'_id': '4db3fc331f6c3cc1afcd4cb6938db9d0', '...  \n",
       "2  [{'_id': '4db3fc331f6c3cc1afcd4cb6938db9d0', '...  \n",
       "3  [{'_id': 'e992109a17e84f458f34c1b888c23205', '...  \n",
       "4                                               None  "
      ]
     },
     "execution_count": 6,
     "metadata": {},
     "output_type": "execute_result"
    }
   ],
   "source": [
    "f = open('class_details.json',encoding='utf8') \n",
    "  \n",
    "# returns JSON object as  \n",
    "# a dictionary \n",
    "data = json.load(f) \n",
    "f.close()\n",
    "class_details=pd.DataFrame(data)\n",
    "class_details.head()"
   ]
  },
  {
   "cell_type": "code",
   "execution_count": 76,
   "metadata": {},
   "outputs": [
    {
     "data": {
      "text/html": [
       "<div>\n",
       "<style scoped>\n",
       "    .dataframe tbody tr th:only-of-type {\n",
       "        vertical-align: middle;\n",
       "    }\n",
       "\n",
       "    .dataframe tbody tr th {\n",
       "        vertical-align: top;\n",
       "    }\n",
       "\n",
       "    .dataframe thead th {\n",
       "        text-align: right;\n",
       "    }\n",
       "</style>\n",
       "<table border=\"1\" class=\"dataframe\">\n",
       "  <thead>\n",
       "    <tr style=\"text-align: right;\">\n",
       "      <th></th>\n",
       "      <th>target</th>\n",
       "      <th>target_super_group</th>\n",
       "      <th>studentIds</th>\n",
       "      <th>class_id</th>\n",
       "    </tr>\n",
       "  </thead>\n",
       "  <tbody>\n",
       "    <tr>\n",
       "      <th>0</th>\n",
       "      <td>[{'_id': '7a5d8c4c00f5f6340f28ba4b49e519ba', '...</td>\n",
       "      <td>[{'_id': 'c1d47cdfe41a7ea2c337dd54c5114168', '...</td>\n",
       "      <td>6e6dabfe6d4eaa2d15b4672e0d0fad5a</td>\n",
       "      <td>c64ca44849ae86093254a01b5748466f</td>\n",
       "    </tr>\n",
       "    <tr>\n",
       "      <th>1</th>\n",
       "      <td>[{'_id': '7a5d8c4c00f5f6340f28ba4b49e519ba', '...</td>\n",
       "      <td>[{'_id': 'c1d47cdfe41a7ea2c337dd54c5114168', '...</td>\n",
       "      <td>a4839004275f9f0583a20f03a8b759c3</td>\n",
       "      <td>c64ca44849ae86093254a01b5748466f</td>\n",
       "    </tr>\n",
       "    <tr>\n",
       "      <th>2</th>\n",
       "      <td>[{'_id': '7a5d8c4c00f5f6340f28ba4b49e519ba', '...</td>\n",
       "      <td>[{'_id': 'c1d47cdfe41a7ea2c337dd54c5114168', '...</td>\n",
       "      <td>bd73581ef03a1f15f24a7d2c7b573792</td>\n",
       "      <td>c64ca44849ae86093254a01b5748466f</td>\n",
       "    </tr>\n",
       "    <tr>\n",
       "      <th>3</th>\n",
       "      <td>[{'_id': '7a5d8c4c00f5f6340f28ba4b49e519ba', '...</td>\n",
       "      <td>[{'_id': 'c1d47cdfe41a7ea2c337dd54c5114168', '...</td>\n",
       "      <td>7a3595d03ba05f3778ade4e0881be40f</td>\n",
       "      <td>c64ca44849ae86093254a01b5748466f</td>\n",
       "    </tr>\n",
       "    <tr>\n",
       "      <th>4</th>\n",
       "      <td>[{'_id': '8dce41b95f3777d43d7ac6259bf1c39a', '...</td>\n",
       "      <td>[{'_id': '4db3fc331f6c3cc1afcd4cb6938db9d0', '...</td>\n",
       "      <td>ee2dce155a659d3b6594479d228e98b8</td>\n",
       "      <td>e2e15f7b9ea0df0fbab2d5c6929a894e</td>\n",
       "    </tr>\n",
       "  </tbody>\n",
       "</table>\n",
       "</div>"
      ],
      "text/plain": [
       "                                              target  \\\n",
       "0  [{'_id': '7a5d8c4c00f5f6340f28ba4b49e519ba', '...   \n",
       "1  [{'_id': '7a5d8c4c00f5f6340f28ba4b49e519ba', '...   \n",
       "2  [{'_id': '7a5d8c4c00f5f6340f28ba4b49e519ba', '...   \n",
       "3  [{'_id': '7a5d8c4c00f5f6340f28ba4b49e519ba', '...   \n",
       "4  [{'_id': '8dce41b95f3777d43d7ac6259bf1c39a', '...   \n",
       "\n",
       "                                  target_super_group  \\\n",
       "0  [{'_id': 'c1d47cdfe41a7ea2c337dd54c5114168', '...   \n",
       "1  [{'_id': 'c1d47cdfe41a7ea2c337dd54c5114168', '...   \n",
       "2  [{'_id': 'c1d47cdfe41a7ea2c337dd54c5114168', '...   \n",
       "3  [{'_id': 'c1d47cdfe41a7ea2c337dd54c5114168', '...   \n",
       "4  [{'_id': '4db3fc331f6c3cc1afcd4cb6938db9d0', '...   \n",
       "\n",
       "                         studentIds                          class_id  \n",
       "0  6e6dabfe6d4eaa2d15b4672e0d0fad5a  c64ca44849ae86093254a01b5748466f  \n",
       "1  a4839004275f9f0583a20f03a8b759c3  c64ca44849ae86093254a01b5748466f  \n",
       "2  bd73581ef03a1f15f24a7d2c7b573792  c64ca44849ae86093254a01b5748466f  \n",
       "3  7a3595d03ba05f3778ade4e0881be40f  c64ca44849ae86093254a01b5748466f  \n",
       "4  ee2dce155a659d3b6594479d228e98b8  e2e15f7b9ea0df0fbab2d5c6929a894e  "
      ]
     },
     "execution_count": 76,
     "metadata": {},
     "output_type": "execute_result"
    }
   ],
   "source": [
    "classenrolledmax=pd.merge(course_enrollments,class_details,left_on=\"enrolled_courses\",right_on=\"class_id\",how=\"left\")\n",
    "\n",
    "classenrolledmax=classenrolledmax[['target','target_super_group','studentIds','class_id']]\n",
    "classenrolledmax.head()"
   ]
  },
  {
   "cell_type": "code",
   "execution_count": 46,
   "metadata": {},
   "outputs": [],
   "source": [
    "# classenrolledmax=pd.json_normalize(classenrolledmax.target)"
   ]
  },
  {
   "cell_type": "code",
   "execution_count": 77,
   "metadata": {},
   "outputs": [
    {
     "data": {
      "text/html": [
       "<div>\n",
       "<style scoped>\n",
       "    .dataframe tbody tr th:only-of-type {\n",
       "        vertical-align: middle;\n",
       "    }\n",
       "\n",
       "    .dataframe tbody tr th {\n",
       "        vertical-align: top;\n",
       "    }\n",
       "\n",
       "    .dataframe thead th {\n",
       "        text-align: right;\n",
       "    }\n",
       "</style>\n",
       "<table border=\"1\" class=\"dataframe\">\n",
       "  <thead>\n",
       "    <tr style=\"text-align: right;\">\n",
       "      <th></th>\n",
       "      <th>class_id</th>\n",
       "      <th>total_targets</th>\n",
       "    </tr>\n",
       "  </thead>\n",
       "  <tbody>\n",
       "    <tr>\n",
       "      <th>0</th>\n",
       "      <td>00ab07631696c897dfa6f037e1986ec5</td>\n",
       "      <td>1</td>\n",
       "    </tr>\n",
       "    <tr>\n",
       "      <th>1</th>\n",
       "      <td>03afc06d8f78b0f3f3a83bfdc6521f84</td>\n",
       "      <td>2</td>\n",
       "    </tr>\n",
       "    <tr>\n",
       "      <th>2</th>\n",
       "      <td>0db2e72c48b89cdaa961666fcc20d5d8</td>\n",
       "      <td>19</td>\n",
       "    </tr>\n",
       "    <tr>\n",
       "      <th>3</th>\n",
       "      <td>109052ee3f95106624c4c3ac5f144b05</td>\n",
       "      <td>7</td>\n",
       "    </tr>\n",
       "    <tr>\n",
       "      <th>4</th>\n",
       "      <td>1597ef0af258665c339f498dd3760a79</td>\n",
       "      <td>5</td>\n",
       "    </tr>\n",
       "  </tbody>\n",
       "</table>\n",
       "</div>"
      ],
      "text/plain": [
       "                           class_id  total_targets\n",
       "0  00ab07631696c897dfa6f037e1986ec5              1\n",
       "1  03afc06d8f78b0f3f3a83bfdc6521f84              2\n",
       "2  0db2e72c48b89cdaa961666fcc20d5d8             19\n",
       "3  109052ee3f95106624c4c3ac5f144b05              7\n",
       "4  1597ef0af258665c339f498dd3760a79              5"
      ]
     },
     "execution_count": 77,
     "metadata": {},
     "output_type": "execute_result"
    }
   ],
   "source": [
    "#count joined course\n",
    "joined_course =classenrolledmax.dropna(axis=0,subset=['class_id'])\n",
    "\n",
    "joinedcourseslist=(joined_course.\n",
    "                  groupby(by=['class_id'])['target'].\n",
    "                  count().\n",
    "                  reset_index().\n",
    "                  rename(columns={'target':'total_targets'})\n",
    "                  [['class_id','total_targets']])\n",
    "\n",
    "joinedcourseslist.head()\n",
    "                  "
   ]
  },
  {
   "cell_type": "code",
   "execution_count": 86,
   "metadata": {
    "scrolled": true
   },
   "outputs": [
    {
     "data": {
      "text/html": [
       "<div>\n",
       "<style scoped>\n",
       "    .dataframe tbody tr th:only-of-type {\n",
       "        vertical-align: middle;\n",
       "    }\n",
       "\n",
       "    .dataframe tbody tr th {\n",
       "        vertical-align: top;\n",
       "    }\n",
       "\n",
       "    .dataframe thead th {\n",
       "        text-align: right;\n",
       "    }\n",
       "</style>\n",
       "<table border=\"1\" class=\"dataframe\">\n",
       "  <thead>\n",
       "    <tr style=\"text-align: right;\">\n",
       "      <th></th>\n",
       "      <th>class_id</th>\n",
       "      <th>total_targets</th>\n",
       "      <th>target</th>\n",
       "      <th>target_super_group</th>\n",
       "      <th>studentIds</th>\n",
       "    </tr>\n",
       "  </thead>\n",
       "  <tbody>\n",
       "    <tr>\n",
       "      <th>0</th>\n",
       "      <td>00ab07631696c897dfa6f037e1986ec5</td>\n",
       "      <td>1</td>\n",
       "      <td>[{'_id': 'a4b3f38ba5a80bc0ccb9d7e2be728229', '...</td>\n",
       "      <td>[{'_id': '4db3fc331f6c3cc1afcd4cb6938db9d0', '...</td>\n",
       "      <td>cafa4b809d68de6b94226e4117879f98</td>\n",
       "    </tr>\n",
       "    <tr>\n",
       "      <th>1</th>\n",
       "      <td>03afc06d8f78b0f3f3a83bfdc6521f84</td>\n",
       "      <td>2</td>\n",
       "      <td>[{'_id': 'd2fbe7905f7f98b8bad4049d937dc090', '...</td>\n",
       "      <td>[{'_id': 'e992109a17e84f458f34c1b888c23205', '...</td>\n",
       "      <td>a0eb10c72b63e1fe7845bdfb2942a1d2</td>\n",
       "    </tr>\n",
       "    <tr>\n",
       "      <th>2</th>\n",
       "      <td>03afc06d8f78b0f3f3a83bfdc6521f84</td>\n",
       "      <td>2</td>\n",
       "      <td>[{'_id': 'd2fbe7905f7f98b8bad4049d937dc090', '...</td>\n",
       "      <td>[{'_id': 'e992109a17e84f458f34c1b888c23205', '...</td>\n",
       "      <td>a6d6e55e1175b8d1fc4bd5fca16e3fda</td>\n",
       "    </tr>\n",
       "    <tr>\n",
       "      <th>3</th>\n",
       "      <td>0db2e72c48b89cdaa961666fcc20d5d8</td>\n",
       "      <td>19</td>\n",
       "      <td>[{'_id': 'b81a8991dd18c0b47f6bc16c47dfa0ae', '...</td>\n",
       "      <td>[{'_id': 'e992109a17e84f458f34c1b888c23205', '...</td>\n",
       "      <td>64102195627a657aeee8d3c48a33e43e</td>\n",
       "    </tr>\n",
       "    <tr>\n",
       "      <th>4</th>\n",
       "      <td>0db2e72c48b89cdaa961666fcc20d5d8</td>\n",
       "      <td>19</td>\n",
       "      <td>[{'_id': 'b81a8991dd18c0b47f6bc16c47dfa0ae', '...</td>\n",
       "      <td>[{'_id': 'e992109a17e84f458f34c1b888c23205', '...</td>\n",
       "      <td>9b8310aee6af9568a13c1cdd17e4a20f</td>\n",
       "    </tr>\n",
       "  </tbody>\n",
       "</table>\n",
       "</div>"
      ],
      "text/plain": [
       "                           class_id  total_targets  \\\n",
       "0  00ab07631696c897dfa6f037e1986ec5              1   \n",
       "1  03afc06d8f78b0f3f3a83bfdc6521f84              2   \n",
       "2  03afc06d8f78b0f3f3a83bfdc6521f84              2   \n",
       "3  0db2e72c48b89cdaa961666fcc20d5d8             19   \n",
       "4  0db2e72c48b89cdaa961666fcc20d5d8             19   \n",
       "\n",
       "                                              target  \\\n",
       "0  [{'_id': 'a4b3f38ba5a80bc0ccb9d7e2be728229', '...   \n",
       "1  [{'_id': 'd2fbe7905f7f98b8bad4049d937dc090', '...   \n",
       "2  [{'_id': 'd2fbe7905f7f98b8bad4049d937dc090', '...   \n",
       "3  [{'_id': 'b81a8991dd18c0b47f6bc16c47dfa0ae', '...   \n",
       "4  [{'_id': 'b81a8991dd18c0b47f6bc16c47dfa0ae', '...   \n",
       "\n",
       "                                  target_super_group  \\\n",
       "0  [{'_id': '4db3fc331f6c3cc1afcd4cb6938db9d0', '...   \n",
       "1  [{'_id': 'e992109a17e84f458f34c1b888c23205', '...   \n",
       "2  [{'_id': 'e992109a17e84f458f34c1b888c23205', '...   \n",
       "3  [{'_id': 'e992109a17e84f458f34c1b888c23205', '...   \n",
       "4  [{'_id': 'e992109a17e84f458f34c1b888c23205', '...   \n",
       "\n",
       "                         studentIds  \n",
       "0  cafa4b809d68de6b94226e4117879f98  \n",
       "1  a0eb10c72b63e1fe7845bdfb2942a1d2  \n",
       "2  a6d6e55e1175b8d1fc4bd5fca16e3fda  \n",
       "3  64102195627a657aeee8d3c48a33e43e  \n",
       "4  9b8310aee6af9568a13c1cdd17e4a20f  "
      ]
     },
     "execution_count": 86,
     "metadata": {},
     "output_type": "execute_result"
    }
   ],
   "source": [
    "totalratingdata=joinedcourseslist.merge(classenrolledmax,left_on='class_id',right_on='class_id',how='left')\n",
    "\n",
    "totalratingdata.head()"
   ]
  },
  {
   "cell_type": "code",
   "execution_count": 87,
   "metadata": {},
   "outputs": [
    {
     "data": {
      "text/html": [
       "<div>\n",
       "<style scoped>\n",
       "    .dataframe tbody tr th:only-of-type {\n",
       "        vertical-align: middle;\n",
       "    }\n",
       "\n",
       "    .dataframe tbody tr th {\n",
       "        vertical-align: top;\n",
       "    }\n",
       "\n",
       "    .dataframe thead th {\n",
       "        text-align: right;\n",
       "    }\n",
       "</style>\n",
       "<table border=\"1\" class=\"dataframe\">\n",
       "  <thead>\n",
       "    <tr style=\"text-align: right;\">\n",
       "      <th></th>\n",
       "      <th>total_targets</th>\n",
       "    </tr>\n",
       "  </thead>\n",
       "  <tbody>\n",
       "    <tr>\n",
       "      <th>count</th>\n",
       "      <td>365.000000</td>\n",
       "    </tr>\n",
       "    <tr>\n",
       "      <th>mean</th>\n",
       "      <td>10.539726</td>\n",
       "    </tr>\n",
       "    <tr>\n",
       "      <th>std</th>\n",
       "      <td>9.000103</td>\n",
       "    </tr>\n",
       "    <tr>\n",
       "      <th>min</th>\n",
       "      <td>1.000000</td>\n",
       "    </tr>\n",
       "    <tr>\n",
       "      <th>25%</th>\n",
       "      <td>3.000000</td>\n",
       "    </tr>\n",
       "    <tr>\n",
       "      <th>50%</th>\n",
       "      <td>8.000000</td>\n",
       "    </tr>\n",
       "    <tr>\n",
       "      <th>75%</th>\n",
       "      <td>14.000000</td>\n",
       "    </tr>\n",
       "    <tr>\n",
       "      <th>max</th>\n",
       "      <td>29.000000</td>\n",
       "    </tr>\n",
       "  </tbody>\n",
       "</table>\n",
       "</div>"
      ],
      "text/plain": [
       "       total_targets\n",
       "count     365.000000\n",
       "mean       10.539726\n",
       "std         9.000103\n",
       "min         1.000000\n",
       "25%         3.000000\n",
       "50%         8.000000\n",
       "75%        14.000000\n",
       "max        29.000000"
      ]
     },
     "execution_count": 87,
     "metadata": {},
     "output_type": "execute_result"
    }
   ],
   "source": [
    "totalratingdata.describe()"
   ]
  },
  {
   "cell_type": "code",
   "execution_count": 88,
   "metadata": {},
   "outputs": [
    {
     "data": {
      "text/html": [
       "<div>\n",
       "<style scoped>\n",
       "    .dataframe tbody tr th:only-of-type {\n",
       "        vertical-align: middle;\n",
       "    }\n",
       "\n",
       "    .dataframe tbody tr th {\n",
       "        vertical-align: top;\n",
       "    }\n",
       "\n",
       "    .dataframe thead th {\n",
       "        text-align: right;\n",
       "    }\n",
       "</style>\n",
       "<table border=\"1\" class=\"dataframe\">\n",
       "  <thead>\n",
       "    <tr style=\"text-align: right;\">\n",
       "      <th></th>\n",
       "      <th>class_id</th>\n",
       "      <th>total_targets</th>\n",
       "      <th>target</th>\n",
       "      <th>target_super_group</th>\n",
       "      <th>studentIds</th>\n",
       "    </tr>\n",
       "  </thead>\n",
       "  <tbody>\n",
       "    <tr>\n",
       "      <th>1</th>\n",
       "      <td>03afc06d8f78b0f3f3a83bfdc6521f84</td>\n",
       "      <td>2</td>\n",
       "      <td>[{'_id': 'd2fbe7905f7f98b8bad4049d937dc090', '...</td>\n",
       "      <td>[{'_id': 'e992109a17e84f458f34c1b888c23205', '...</td>\n",
       "      <td>a0eb10c72b63e1fe7845bdfb2942a1d2</td>\n",
       "    </tr>\n",
       "    <tr>\n",
       "      <th>2</th>\n",
       "      <td>03afc06d8f78b0f3f3a83bfdc6521f84</td>\n",
       "      <td>2</td>\n",
       "      <td>[{'_id': 'd2fbe7905f7f98b8bad4049d937dc090', '...</td>\n",
       "      <td>[{'_id': 'e992109a17e84f458f34c1b888c23205', '...</td>\n",
       "      <td>a6d6e55e1175b8d1fc4bd5fca16e3fda</td>\n",
       "    </tr>\n",
       "    <tr>\n",
       "      <th>3</th>\n",
       "      <td>0db2e72c48b89cdaa961666fcc20d5d8</td>\n",
       "      <td>19</td>\n",
       "      <td>[{'_id': 'b81a8991dd18c0b47f6bc16c47dfa0ae', '...</td>\n",
       "      <td>[{'_id': 'e992109a17e84f458f34c1b888c23205', '...</td>\n",
       "      <td>64102195627a657aeee8d3c48a33e43e</td>\n",
       "    </tr>\n",
       "    <tr>\n",
       "      <th>4</th>\n",
       "      <td>0db2e72c48b89cdaa961666fcc20d5d8</td>\n",
       "      <td>19</td>\n",
       "      <td>[{'_id': 'b81a8991dd18c0b47f6bc16c47dfa0ae', '...</td>\n",
       "      <td>[{'_id': 'e992109a17e84f458f34c1b888c23205', '...</td>\n",
       "      <td>9b8310aee6af9568a13c1cdd17e4a20f</td>\n",
       "    </tr>\n",
       "    <tr>\n",
       "      <th>5</th>\n",
       "      <td>0db2e72c48b89cdaa961666fcc20d5d8</td>\n",
       "      <td>19</td>\n",
       "      <td>[{'_id': 'b81a8991dd18c0b47f6bc16c47dfa0ae', '...</td>\n",
       "      <td>[{'_id': 'e992109a17e84f458f34c1b888c23205', '...</td>\n",
       "      <td>16ec3b0729e0b32fa218d12d44879e34</td>\n",
       "    </tr>\n",
       "  </tbody>\n",
       "</table>\n",
       "</div>"
      ],
      "text/plain": [
       "                           class_id  total_targets  \\\n",
       "1  03afc06d8f78b0f3f3a83bfdc6521f84              2   \n",
       "2  03afc06d8f78b0f3f3a83bfdc6521f84              2   \n",
       "3  0db2e72c48b89cdaa961666fcc20d5d8             19   \n",
       "4  0db2e72c48b89cdaa961666fcc20d5d8             19   \n",
       "5  0db2e72c48b89cdaa961666fcc20d5d8             19   \n",
       "\n",
       "                                              target  \\\n",
       "1  [{'_id': 'd2fbe7905f7f98b8bad4049d937dc090', '...   \n",
       "2  [{'_id': 'd2fbe7905f7f98b8bad4049d937dc090', '...   \n",
       "3  [{'_id': 'b81a8991dd18c0b47f6bc16c47dfa0ae', '...   \n",
       "4  [{'_id': 'b81a8991dd18c0b47f6bc16c47dfa0ae', '...   \n",
       "5  [{'_id': 'b81a8991dd18c0b47f6bc16c47dfa0ae', '...   \n",
       "\n",
       "                                  target_super_group  \\\n",
       "1  [{'_id': 'e992109a17e84f458f34c1b888c23205', '...   \n",
       "2  [{'_id': 'e992109a17e84f458f34c1b888c23205', '...   \n",
       "3  [{'_id': 'e992109a17e84f458f34c1b888c23205', '...   \n",
       "4  [{'_id': 'e992109a17e84f458f34c1b888c23205', '...   \n",
       "5  [{'_id': 'e992109a17e84f458f34c1b888c23205', '...   \n",
       "\n",
       "                         studentIds  \n",
       "1  a0eb10c72b63e1fe7845bdfb2942a1d2  \n",
       "2  a6d6e55e1175b8d1fc4bd5fca16e3fda  \n",
       "3  64102195627a657aeee8d3c48a33e43e  \n",
       "4  9b8310aee6af9568a13c1cdd17e4a20f  \n",
       "5  16ec3b0729e0b32fa218d12d44879e34  "
      ]
     },
     "execution_count": 88,
     "metadata": {},
     "output_type": "execute_result"
    }
   ],
   "source": [
    "threshold= 2\n",
    "suggestion=totalratingdata.query('total_targets>=@threshold')\n",
    "suggestion.head()"
   ]
  },
  {
   "cell_type": "code",
   "execution_count": 95,
   "metadata": {},
   "outputs": [
    {
     "data": {
      "text/plain": [
       "(328, 5)"
      ]
     },
     "execution_count": 95,
     "metadata": {},
     "output_type": "execute_result"
    }
   ],
   "source": [
    "suggestion.shape"
   ]
  },
  {
   "cell_type": "code",
   "execution_count": 135,
   "metadata": {
    "scrolled": true
   },
   "outputs": [
    {
     "data": {
      "text/plain": [
       "(53, 193)"
      ]
     },
     "execution_count": 135,
     "metadata": {},
     "output_type": "execute_result"
    }
   ],
   "source": [
    "matrix=suggestion.pivot_table(index='class_id',columns='studentIds',values='total_targets').fillna(0)\n",
    "matrix.head()"
   ]
  },
  {
   "cell_type": "code",
   "execution_count": 151,
   "metadata": {},
   "outputs": [
    {
     "data": {
      "text/plain": [
       "NearestNeighbors(algorithm='brute', metric='cosine')"
      ]
     },
     "execution_count": 151,
     "metadata": {},
     "output_type": "execute_result"
    }
   ],
   "source": [
    "from scipy.sparse import  csr_matrix\n",
    "\n",
    "from sklearn.neighbors import NearestNeighbors\n",
    "\n",
    "model=NearestNeighbors(metric='cosine',algorithm='brute')\n",
    "\n",
    "model.fit(csr_matrix(matrix.values))"
   ]
  },
  {
   "cell_type": "code",
   "execution_count": 149,
   "metadata": {},
   "outputs": [
    {
     "data": {
      "text/plain": [
       "(53, 193)"
      ]
     },
     "execution_count": 149,
     "metadata": {},
     "output_type": "execute_result"
    }
   ],
   "source": [
    "matrix.shape"
   ]
  },
  {
   "cell_type": "code",
   "execution_count": 164,
   "metadata": {},
   "outputs": [
    {
     "name": "stdout",
     "output_type": "stream",
     "text": [
      "24\n"
     ]
    }
   ],
   "source": [
    "query=np.random.choice(matrix.shape[0])\n",
    "print(query)\n",
    "distances,indices=model.kneighbors(matrix.iloc[query,:].values.reshape(1,-1),n_neighbors=5)"
   ]
  },
  {
   "cell_type": "code",
   "execution_count": 171,
   "metadata": {},
   "outputs": [
    {
     "ename": "TypeError",
     "evalue": "'numpy.ndarray' object is not callable",
     "output_type": "error",
     "traceback": [
      "\u001b[1;31m---------------------------------------------------------------------------\u001b[0m",
      "\u001b[1;31mTypeError\u001b[0m                                 Traceback (most recent call last)",
      "\u001b[1;32m<ipython-input-171-48463256a0e5>\u001b[0m in \u001b[0;36m<module>\u001b[1;34m\u001b[0m\n\u001b[1;32m----> 1\u001b[1;33m \u001b[0mprint\u001b[0m\u001b[1;33m(\u001b[0m\u001b[1;34m'For Students {0}:'\u001b[0m\u001b[1;33m,\u001b[0m\u001b[0mformat\u001b[0m\u001b[1;33m(\u001b[0m\u001b[0mmatrix\u001b[0m\u001b[1;33m.\u001b[0m\u001b[0mvalues\u001b[0m\u001b[1;33m(\u001b[0m\u001b[0mquery\u001b[0m\u001b[1;33m)\u001b[0m\u001b[1;33m)\u001b[0m\u001b[1;33m)\u001b[0m\u001b[1;33m\u001b[0m\u001b[1;33m\u001b[0m\u001b[0m\n\u001b[0m\u001b[0;32m      2\u001b[0m \u001b[1;33m\u001b[0m\u001b[0m\n\u001b[0;32m      3\u001b[0m \u001b[1;32mfor\u001b[0m \u001b[0mi\u001b[0m \u001b[1;32min\u001b[0m \u001b[0mrange\u001b[0m\u001b[1;33m(\u001b[0m\u001b[1;36m0\u001b[0m\u001b[1;33m,\u001b[0m\u001b[0mlen\u001b[0m\u001b[1;33m(\u001b[0m\u001b[0mdistances\u001b[0m\u001b[1;33m.\u001b[0m\u001b[0mflatten\u001b[0m\u001b[1;33m(\u001b[0m\u001b[1;33m)\u001b[0m\u001b[1;33m)\u001b[0m\u001b[1;33m)\u001b[0m\u001b[1;33m:\u001b[0m\u001b[1;33m\u001b[0m\u001b[1;33m\u001b[0m\u001b[0m\n\u001b[0;32m      4\u001b[0m     \u001b[1;32mif\u001b[0m \u001b[0mi\u001b[0m\u001b[1;33m==\u001b[0m\u001b[1;36m0\u001b[0m \u001b[1;33m:\u001b[0m\u001b[1;33m\u001b[0m\u001b[1;33m\u001b[0m\u001b[0m\n\u001b[0;32m      5\u001b[0m         \u001b[0mprint\u001b[0m\u001b[1;33m(\u001b[0m\u001b[1;34m'Recommnedation for {0}:\\n'\u001b[0m\u001b[1;33m,\u001b[0m\u001b[0mformat\u001b[0m\u001b[1;33m(\u001b[0m\u001b[0mmatrix\u001b[0m\u001b[1;33m.\u001b[0m\u001b[0mindex\u001b[0m\u001b[1;33m[\u001b[0m\u001b[0mquery\u001b[0m\u001b[1;33m]\u001b[0m\u001b[1;33m)\u001b[0m\u001b[1;33m)\u001b[0m\u001b[1;33m\u001b[0m\u001b[1;33m\u001b[0m\u001b[0m\n",
      "\u001b[1;31mTypeError\u001b[0m: 'numpy.ndarray' object is not callable"
     ]
    }
   ],
   "source": [
    "for i in range(0,len(distances.flatten())):\n",
    "    if i==0 :\n",
    "        print('Recommnedation for {0}:\\n',format(matrix.index[query]))\n",
    "    else:\n",
    "        print('{0}: Class ID {1},with the distance of {2}:'.format(i,matrix.index[indices.flatten()[i]],distances.flatten()[i]))\n",
    "        \n",
    "        \n"
   ]
  },
  {
   "cell_type": "code",
   "execution_count": null,
   "metadata": {},
   "outputs": [],
   "source": []
  }
 ],
 "metadata": {
  "kernelspec": {
   "display_name": "Python 3",
   "language": "python",
   "name": "python3"
  },
  "language_info": {
   "codemirror_mode": {
    "name": "ipython",
    "version": 3
   },
   "file_extension": ".py",
   "mimetype": "text/x-python",
   "name": "python",
   "nbconvert_exporter": "python",
   "pygments_lexer": "ipython3",
   "version": "3.8.3"
  }
 },
 "nbformat": 4,
 "nbformat_minor": 4
}
